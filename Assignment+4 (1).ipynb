{
 "cells": [
  {
   "cell_type": "markdown",
   "metadata": {},
   "source": [
    "---\n",
    "\n",
    "_You are currently looking at **version 1.1** of this notebook. To download notebooks and datafiles, as well as get help on Jupyter notebooks in the Coursera platform, visit the [Jupyter Notebook FAQ](https://www.coursera.org/learn/python-data-analysis/resources/0dhYG) course resource._\n",
    "\n",
    "---"
   ]
  },
  {
   "cell_type": "code",
   "execution_count": 1,
   "metadata": {
    "collapsed": true
   },
   "outputs": [],
   "source": [
    "import pandas as pd\n",
    "import numpy as np\n",
    "from scipy.stats import ttest_ind"
   ]
  },
  {
   "cell_type": "code",
   "execution_count": 2,
   "metadata": {
    "collapsed": true
   },
   "outputs": [],
   "source": [
    "states = {'OH': 'Ohio', 'KY': 'Kentucky', 'AS': 'American Samoa', 'NV': 'Nevada', 'WY': 'Wyoming', 'NA': 'National',\n",
    "          'AL': 'Alabama', 'MD': 'Maryland', 'AK': 'Alaska', 'UT': 'Utah', 'OR': 'Oregon', 'MT': 'Montana',\n",
    "          'IL': 'Illinois', 'TN': 'Tennessee', 'DC': 'District of Columbia', 'VT': 'Vermont', 'ID': 'Idaho',\n",
    "          'AR': 'Arkansas', 'ME': 'Maine', 'WA': 'Washington', 'HI': 'Hawaii', 'WI': 'Wisconsin',\n",
    "          'MI': 'Michigan', 'IN': 'Indiana', 'NJ': 'New Jersey', 'AZ': 'Arizona', 'GU': 'Guam',\n",
    "          'MS': 'Mississippi', 'PR': 'Puerto Rico', 'NC': 'North Carolina', 'TX': 'Texas',\n",
    "          'SD': 'South Dakota', 'MP': 'Northern Mariana Islands', 'IA': 'Iowa', 'MO': 'Missouri',\n",
    "          'CT': 'Connecticut', 'WV': 'West Virginia', 'SC': 'South Carolina', 'LA': 'Louisiana', 'KS': 'Kansas',\n",
    "          'NY': 'New York', 'NE': 'Nebraska', 'OK': 'Oklahoma', 'FL': 'Florida', 'CA': 'California', 'CO': 'Colorado',\n",
    "          'PA': 'Pennsylvania', 'DE': 'Delaware', 'NM': 'New Mexico', 'RI': 'Rhode Island', 'MN': 'Minnesota',\n",
    "          'VI': 'Virgin Islands', 'NH': 'New Hampshire', 'MA': 'Massachusetts', 'GA': 'Georgia', 'ND': 'North Dakota',\n",
    "          'VA': 'Virginia'}"
   ]
  },
  {
   "cell_type": "code",
   "execution_count": 3,
   "metadata": {},
   "outputs": [
    {
     "data": {
      "text/plain": [
       "57"
      ]
     },
     "execution_count": 3,
     "metadata": {},
     "output_type": "execute_result"
    }
   ],
   "source": [
    "len(states)"
   ]
  },
  {
   "cell_type": "code",
   "execution_count": 4,
   "metadata": {
    "collapsed": true,
    "umich_part_id": "021",
    "umich_partlist_id": "004"
   },
   "outputs": [],
   "source": [
    "def get_list_of_university_towns():\n",
    "    \n",
    "    data = []\n",
    "    state = None\n",
    "    state_towns = []\n",
    "    with open('university_towns.txt') as file:\n",
    "        for line in file:\n",
    "            thisLine = line[:-1]\n",
    "            if thisLine[-6:] == '[edit]':\n",
    "                state = thisLine[:-6]\n",
    "                continue\n",
    "            if '(' in line:\n",
    "                town = thisLine[:thisLine.index('(')-1]\n",
    "                state_towns.append([state,town])\n",
    "            else:\n",
    "                town = thisLine\n",
    "                state_towns.append([state,town])\n",
    "            data.append(thisLine)\n",
    "    df = pd.DataFrame(state_towns,columns = ['State','RegionName'])\n",
    "    return df\n",
    " "
   ]
  },
  {
   "cell_type": "code",
   "execution_count": 5,
   "metadata": {
    "umich_part_id": "022",
    "umich_partlist_id": "004"
   },
   "outputs": [
    {
     "data": {
      "text/plain": [
       "'2008q3'"
      ]
     },
     "execution_count": 5,
     "metadata": {},
     "output_type": "execute_result"
    }
   ],
   "source": [
    "def get_recession_start():\n",
    "    \n",
    "    gf=pd.read_excel(\"gdplev.xls\")\n",
    "    gf=gf[219:]\n",
    "    gf.reset_index(inplace=True)\n",
    "    gf.drop('index',axis=1,inplace=True)\n",
    "    c=0\n",
    "    i=0\n",
    "    while c<2:\n",
    "        \n",
    "        x = gf.loc[i+1]['Unnamed: 6']-gf.loc[i]['Unnamed: 6']\n",
    "        if x<0:\n",
    "            c=c+1\n",
    "        else:\n",
    "            c=0\n",
    "        \n",
    "        if i<66:\n",
    "            i=i+1\n",
    "        else:\n",
    "            break\n",
    "     \n",
    "    ans=gf.loc[i-1]['Unnamed: 4']\n",
    "    rsi=i-1       \n",
    "    return(ans)\n",
    "\n",
    "get_recession_start()"
   ]
  },
  {
   "cell_type": "code",
   "execution_count": 6,
   "metadata": {
    "umich_part_id": "023",
    "umich_partlist_id": "004"
   },
   "outputs": [
    {
     "data": {
      "text/plain": [
       "'2009q4'"
      ]
     },
     "execution_count": 6,
     "metadata": {},
     "output_type": "execute_result"
    }
   ],
   "source": [
    "def get_recession_end():\n",
    "\n",
    "    gf=pd.read_excel(\"gdplev.xls\")\n",
    "    gf=gf[219+34:]\n",
    "    gf.reset_index(inplace=True)\n",
    "    gf.drop('index',axis=1,inplace=True)\n",
    "    c=0\n",
    "    i=0\n",
    "    while c<2:\n",
    "        \n",
    "        x = gf.loc[i+1]['Unnamed: 6']-gf.loc[i]['Unnamed: 6']\n",
    "        if x>0:\n",
    "            c=c+1\n",
    "        else:\n",
    "            c=0\n",
    "        \n",
    "        if i<len(gf):\n",
    "            i=i+1\n",
    "        else:\n",
    "            break\n",
    "            \n",
    "    ans=gf.loc[i]['Unnamed: 4']\n",
    "    rei=i\n",
    "    return(ans)\n",
    "               \n",
    "get_recession_end()"
   ]
  },
  {
   "cell_type": "code",
   "execution_count": 7,
   "metadata": {
    "umich_part_id": "024",
    "umich_partlist_id": "004"
   },
   "outputs": [
    {
     "data": {
      "text/plain": [
       "'2009q2'"
      ]
     },
     "execution_count": 7,
     "metadata": {},
     "output_type": "execute_result"
    }
   ],
   "source": [
    "def get_recession_bottom():\n",
    "    \n",
    "    gf=pd.read_excel(\"gdplev.xls\")\n",
    "    gf=gf[219+34:219+39]\n",
    "    gf.reset_index(inplace=True)\n",
    "    gf.drop('index',axis=1,inplace=True)\n",
    "    arr=[]\n",
    "    for i in range(5):\n",
    "        x=gf.loc[i]['Unnamed: 6']\n",
    "        arr.append(x)\n",
    "    v=arr.index(min(arr))\n",
    "    ans=gf.loc[v]['Unnamed: 4']\n",
    "        \n",
    "    return(ans)\n",
    "get_recession_bottom()"
   ]
  },
  {
   "cell_type": "code",
   "execution_count": 8,
   "metadata": {
    "collapsed": true
   },
   "outputs": [],
   "source": [
    "df1=get_list_of_university_towns()\n",
    "df2=pd.read_excel(\"gdplev.xls\")\n",
    "df3=pd.read_csv(\"City_Zhvi_AllHomes.csv\")"
   ]
  },
  {
   "cell_type": "code",
   "execution_count": 9,
   "metadata": {
    "collapsed": true
   },
   "outputs": [],
   "source": [
    "x=4\n",
    "y=5\n",
    "z=6\n",
    "year=1996\n",
    "q=2\n",
    "arr1=[]\n",
    "for i in range(81):\n",
    "    \n",
    "    if z>12:\n",
    "        x=1\n",
    "        y=2\n",
    "        z=3\n",
    "\n",
    "    else:\n",
    "        flag=0\n",
    "\n",
    "    if q>4:\n",
    "        q=1\n",
    "        year=year+1\n",
    "    else:\n",
    "        flag=0\n",
    "    \n",
    "    a=str(year)+\"-\"+str(x).zfill(2)\n",
    "    b=str(year)+\"-\"+str(y).zfill(2)\n",
    "    c=str(year)+\"-\"+str(z).zfill(2)\n",
    "    str1=str(year)+\"q\"+str(q)\n",
    "    arr1.append(str1)\n",
    "    df3[str1]=(df3[a]+df3[b]+df3[c])/3\n",
    "    x=x+3\n",
    "    y=y+3\n",
    "    z=z+3\n",
    "    q=q+1\n",
    "\n",
    "df3['2016q3']=(df3[\"2016-07\"]+df3[\"2016-08\"])/2"
   ]
  },
  {
   "cell_type": "code",
   "execution_count": 10,
   "metadata": {
    "scrolled": false
   },
   "outputs": [
    {
     "data": {
      "text/html": [
       "<div>\n",
       "<table border=\"1\" class=\"dataframe\">\n",
       "  <thead>\n",
       "    <tr style=\"text-align: right;\">\n",
       "      <th></th>\n",
       "      <th>RegionID</th>\n",
       "      <th>RegionName</th>\n",
       "      <th>State</th>\n",
       "      <th>Metro</th>\n",
       "      <th>CountyName</th>\n",
       "      <th>SizeRank</th>\n",
       "      <th>1996-04</th>\n",
       "      <th>1996-05</th>\n",
       "      <th>1996-06</th>\n",
       "      <th>1996-07</th>\n",
       "      <th>...</th>\n",
       "      <th>2014q2</th>\n",
       "      <th>2014q3</th>\n",
       "      <th>2014q4</th>\n",
       "      <th>2015q1</th>\n",
       "      <th>2015q2</th>\n",
       "      <th>2015q3</th>\n",
       "      <th>2015q4</th>\n",
       "      <th>2016q1</th>\n",
       "      <th>2016q2</th>\n",
       "      <th>2016q3</th>\n",
       "    </tr>\n",
       "  </thead>\n",
       "  <tbody>\n",
       "    <tr>\n",
       "      <th>0</th>\n",
       "      <td>6181</td>\n",
       "      <td>New York</td>\n",
       "      <td>NY</td>\n",
       "      <td>New York</td>\n",
       "      <td>Queens</td>\n",
       "      <td>1</td>\n",
       "      <td>NaN</td>\n",
       "      <td>NaN</td>\n",
       "      <td>NaN</td>\n",
       "      <td>NaN</td>\n",
       "      <td>...</td>\n",
       "      <td>515466.666667</td>\n",
       "      <td>522800.000000</td>\n",
       "      <td>528066.666667</td>\n",
       "      <td>532266.666667</td>\n",
       "      <td>540800.000000</td>\n",
       "      <td>557200.000000</td>\n",
       "      <td>572833.333333</td>\n",
       "      <td>582866.666667</td>\n",
       "      <td>591633.333333</td>\n",
       "      <td>587200.0</td>\n",
       "    </tr>\n",
       "    <tr>\n",
       "      <th>1</th>\n",
       "      <td>12447</td>\n",
       "      <td>Los Angeles</td>\n",
       "      <td>CA</td>\n",
       "      <td>Los Angeles-Long Beach-Anaheim</td>\n",
       "      <td>Los Angeles</td>\n",
       "      <td>2</td>\n",
       "      <td>155000.0</td>\n",
       "      <td>154600.0</td>\n",
       "      <td>154400.0</td>\n",
       "      <td>154200.0</td>\n",
       "      <td>...</td>\n",
       "      <td>498033.333333</td>\n",
       "      <td>509066.666667</td>\n",
       "      <td>518866.666667</td>\n",
       "      <td>528800.000000</td>\n",
       "      <td>538166.666667</td>\n",
       "      <td>547266.666667</td>\n",
       "      <td>557733.333333</td>\n",
       "      <td>566033.333333</td>\n",
       "      <td>577466.666667</td>\n",
       "      <td>584050.0</td>\n",
       "    </tr>\n",
       "    <tr>\n",
       "      <th>2</th>\n",
       "      <td>17426</td>\n",
       "      <td>Chicago</td>\n",
       "      <td>IL</td>\n",
       "      <td>Chicago</td>\n",
       "      <td>Cook</td>\n",
       "      <td>3</td>\n",
       "      <td>109700.0</td>\n",
       "      <td>109400.0</td>\n",
       "      <td>109300.0</td>\n",
       "      <td>109300.0</td>\n",
       "      <td>...</td>\n",
       "      <td>192633.333333</td>\n",
       "      <td>195766.666667</td>\n",
       "      <td>201266.666667</td>\n",
       "      <td>201066.666667</td>\n",
       "      <td>206033.333333</td>\n",
       "      <td>208300.000000</td>\n",
       "      <td>207900.000000</td>\n",
       "      <td>206066.666667</td>\n",
       "      <td>208200.000000</td>\n",
       "      <td>212000.0</td>\n",
       "    </tr>\n",
       "    <tr>\n",
       "      <th>3</th>\n",
       "      <td>13271</td>\n",
       "      <td>Philadelphia</td>\n",
       "      <td>PA</td>\n",
       "      <td>Philadelphia</td>\n",
       "      <td>Philadelphia</td>\n",
       "      <td>4</td>\n",
       "      <td>50000.0</td>\n",
       "      <td>49900.0</td>\n",
       "      <td>49600.0</td>\n",
       "      <td>49400.0</td>\n",
       "      <td>...</td>\n",
       "      <td>113733.333333</td>\n",
       "      <td>115300.000000</td>\n",
       "      <td>115666.666667</td>\n",
       "      <td>116200.000000</td>\n",
       "      <td>117966.666667</td>\n",
       "      <td>121233.333333</td>\n",
       "      <td>122200.000000</td>\n",
       "      <td>123433.333333</td>\n",
       "      <td>126933.333333</td>\n",
       "      <td>128700.0</td>\n",
       "    </tr>\n",
       "    <tr>\n",
       "      <th>4</th>\n",
       "      <td>40326</td>\n",
       "      <td>Phoenix</td>\n",
       "      <td>AZ</td>\n",
       "      <td>Phoenix</td>\n",
       "      <td>Maricopa</td>\n",
       "      <td>5</td>\n",
       "      <td>87200.0</td>\n",
       "      <td>87700.0</td>\n",
       "      <td>88200.0</td>\n",
       "      <td>88400.0</td>\n",
       "      <td>...</td>\n",
       "      <td>164266.666667</td>\n",
       "      <td>165366.666667</td>\n",
       "      <td>168500.000000</td>\n",
       "      <td>171533.333333</td>\n",
       "      <td>174166.666667</td>\n",
       "      <td>179066.666667</td>\n",
       "      <td>183833.333333</td>\n",
       "      <td>187900.000000</td>\n",
       "      <td>191433.333333</td>\n",
       "      <td>195200.0</td>\n",
       "    </tr>\n",
       "  </tbody>\n",
       "</table>\n",
       "<p>5 rows × 333 columns</p>\n",
       "</div>"
      ],
      "text/plain": [
       "   RegionID    RegionName State                           Metro    CountyName  \\\n",
       "0      6181      New York    NY                        New York        Queens   \n",
       "1     12447   Los Angeles    CA  Los Angeles-Long Beach-Anaheim   Los Angeles   \n",
       "2     17426       Chicago    IL                         Chicago          Cook   \n",
       "3     13271  Philadelphia    PA                    Philadelphia  Philadelphia   \n",
       "4     40326       Phoenix    AZ                         Phoenix      Maricopa   \n",
       "\n",
       "   SizeRank   1996-04   1996-05   1996-06   1996-07    ...            2014q2  \\\n",
       "0         1       NaN       NaN       NaN       NaN    ...     515466.666667   \n",
       "1         2  155000.0  154600.0  154400.0  154200.0    ...     498033.333333   \n",
       "2         3  109700.0  109400.0  109300.0  109300.0    ...     192633.333333   \n",
       "3         4   50000.0   49900.0   49600.0   49400.0    ...     113733.333333   \n",
       "4         5   87200.0   87700.0   88200.0   88400.0    ...     164266.666667   \n",
       "\n",
       "          2014q3         2014q4         2015q1         2015q2         2015q3  \\\n",
       "0  522800.000000  528066.666667  532266.666667  540800.000000  557200.000000   \n",
       "1  509066.666667  518866.666667  528800.000000  538166.666667  547266.666667   \n",
       "2  195766.666667  201266.666667  201066.666667  206033.333333  208300.000000   \n",
       "3  115300.000000  115666.666667  116200.000000  117966.666667  121233.333333   \n",
       "4  165366.666667  168500.000000  171533.333333  174166.666667  179066.666667   \n",
       "\n",
       "          2015q4         2016q1         2016q2    2016q3  \n",
       "0  572833.333333  582866.666667  591633.333333  587200.0  \n",
       "1  557733.333333  566033.333333  577466.666667  584050.0  \n",
       "2  207900.000000  206066.666667  208200.000000  212000.0  \n",
       "3  122200.000000  123433.333333  126933.333333  128700.0  \n",
       "4  183833.333333  187900.000000  191433.333333  195200.0  \n",
       "\n",
       "[5 rows x 333 columns]"
      ]
     },
     "execution_count": 10,
     "metadata": {},
     "output_type": "execute_result"
    }
   ],
   "source": [
    "df3.head()"
   ]
  },
  {
   "cell_type": "code",
   "execution_count": 11,
   "metadata": {
    "collapsed": true
   },
   "outputs": [],
   "source": [
    "arr1=arr1[15:]"
   ]
  },
  {
   "cell_type": "code",
   "execution_count": 12,
   "metadata": {
    "collapsed": true
   },
   "outputs": [],
   "source": [
    "arr1.insert(0,'RegionName')\n",
    "arr1.insert(0,'State')\n"
   ]
  },
  {
   "cell_type": "code",
   "execution_count": 13,
   "metadata": {
    "collapsed": true
   },
   "outputs": [],
   "source": [
    "df4=df3[arr1]"
   ]
  },
  {
   "cell_type": "code",
   "execution_count": 14,
   "metadata": {
    "collapsed": true
   },
   "outputs": [],
   "source": [
    "arr2=[]\n",
    "for i in range(57):\n",
    "    arr2.append(i)"
   ]
  },
  {
   "cell_type": "code",
   "execution_count": 15,
   "metadata": {
    "collapsed": true
   },
   "outputs": [],
   "source": [
    "arr3=list(states.keys())\n",
    "arr4=list(states.values())\n",
    "xoxo={'avb':arr3,'names':arr4}"
   ]
  },
  {
   "cell_type": "code",
   "execution_count": 16,
   "metadata": {
    "collapsed": true
   },
   "outputs": [],
   "source": [
    "df5=pd.DataFrame(xoxo)"
   ]
  },
  {
   "cell_type": "code",
   "execution_count": 18,
   "metadata": {
    "collapsed": true
   },
   "outputs": [],
   "source": [
    "final = pd.merge(df4,df5,how='inner',left_on='State',right_on='avb')"
   ]
  },
  {
   "cell_type": "code",
   "execution_count": 19,
   "metadata": {
    "collapsed": true
   },
   "outputs": [],
   "source": [
    "final.drop('State',axis=1,inplace=True)\n",
    "final.drop('avb',axis=1,inplace=True)"
   ]
  },
  {
   "cell_type": "code",
   "execution_count": 20,
   "metadata": {},
   "outputs": [
    {
     "data": {
      "text/html": [
       "<div>\n",
       "<table border=\"1\" class=\"dataframe\">\n",
       "  <thead>\n",
       "    <tr style=\"text-align: right;\">\n",
       "      <th></th>\n",
       "      <th>RegionName</th>\n",
       "      <th>2000q1</th>\n",
       "      <th>2000q2</th>\n",
       "      <th>2000q3</th>\n",
       "      <th>2000q4</th>\n",
       "      <th>2001q1</th>\n",
       "      <th>2001q2</th>\n",
       "      <th>2001q3</th>\n",
       "      <th>2001q4</th>\n",
       "      <th>2002q1</th>\n",
       "      <th>...</th>\n",
       "      <th>2014q2</th>\n",
       "      <th>2014q3</th>\n",
       "      <th>2014q4</th>\n",
       "      <th>2015q1</th>\n",
       "      <th>2015q2</th>\n",
       "      <th>2015q3</th>\n",
       "      <th>2015q4</th>\n",
       "      <th>2016q1</th>\n",
       "      <th>2016q2</th>\n",
       "      <th>State</th>\n",
       "    </tr>\n",
       "  </thead>\n",
       "  <tbody>\n",
       "    <tr>\n",
       "      <th>0</th>\n",
       "      <td>New York</td>\n",
       "      <td>NaN</td>\n",
       "      <td>NaN</td>\n",
       "      <td>NaN</td>\n",
       "      <td>NaN</td>\n",
       "      <td>NaN</td>\n",
       "      <td>NaN</td>\n",
       "      <td>NaN</td>\n",
       "      <td>NaN</td>\n",
       "      <td>NaN</td>\n",
       "      <td>...</td>\n",
       "      <td>515466.666667</td>\n",
       "      <td>522800.000000</td>\n",
       "      <td>528066.666667</td>\n",
       "      <td>532266.666667</td>\n",
       "      <td>540800.000000</td>\n",
       "      <td>557200.000000</td>\n",
       "      <td>572833.333333</td>\n",
       "      <td>582866.666667</td>\n",
       "      <td>591633.333333</td>\n",
       "      <td>New York</td>\n",
       "    </tr>\n",
       "    <tr>\n",
       "      <th>1</th>\n",
       "      <td>Rochester</td>\n",
       "      <td>53566.666667</td>\n",
       "      <td>53233.333333</td>\n",
       "      <td>53200.000000</td>\n",
       "      <td>53200.000000</td>\n",
       "      <td>53066.666667</td>\n",
       "      <td>52533.333333</td>\n",
       "      <td>52666.666667</td>\n",
       "      <td>53200.000000</td>\n",
       "      <td>53366.666667</td>\n",
       "      <td>...</td>\n",
       "      <td>60100.000000</td>\n",
       "      <td>61266.666667</td>\n",
       "      <td>62800.000000</td>\n",
       "      <td>62900.000000</td>\n",
       "      <td>63966.666667</td>\n",
       "      <td>64800.000000</td>\n",
       "      <td>65333.333333</td>\n",
       "      <td>66833.333333</td>\n",
       "      <td>67000.000000</td>\n",
       "      <td>New York</td>\n",
       "    </tr>\n",
       "    <tr>\n",
       "      <th>2</th>\n",
       "      <td>Yonkers</td>\n",
       "      <td>222233.333333</td>\n",
       "      <td>230900.000000</td>\n",
       "      <td>245533.333333</td>\n",
       "      <td>254400.000000</td>\n",
       "      <td>259266.666667</td>\n",
       "      <td>263700.000000</td>\n",
       "      <td>271300.000000</td>\n",
       "      <td>282066.666667</td>\n",
       "      <td>292833.333333</td>\n",
       "      <td>...</td>\n",
       "      <td>382033.333333</td>\n",
       "      <td>385766.666667</td>\n",
       "      <td>385333.333333</td>\n",
       "      <td>385866.666667</td>\n",
       "      <td>388800.000000</td>\n",
       "      <td>401233.333333</td>\n",
       "      <td>404433.333333</td>\n",
       "      <td>407066.666667</td>\n",
       "      <td>409800.000000</td>\n",
       "      <td>New York</td>\n",
       "    </tr>\n",
       "    <tr>\n",
       "      <th>3</th>\n",
       "      <td>Syracuse</td>\n",
       "      <td>56800.000000</td>\n",
       "      <td>57866.666667</td>\n",
       "      <td>57400.000000</td>\n",
       "      <td>57233.333333</td>\n",
       "      <td>57100.000000</td>\n",
       "      <td>56966.666667</td>\n",
       "      <td>57433.333333</td>\n",
       "      <td>58000.000000</td>\n",
       "      <td>59033.333333</td>\n",
       "      <td>...</td>\n",
       "      <td>76533.333333</td>\n",
       "      <td>75733.333333</td>\n",
       "      <td>75133.333333</td>\n",
       "      <td>76966.666667</td>\n",
       "      <td>78533.333333</td>\n",
       "      <td>79200.000000</td>\n",
       "      <td>80400.000000</td>\n",
       "      <td>80566.666667</td>\n",
       "      <td>78733.333333</td>\n",
       "      <td>New York</td>\n",
       "    </tr>\n",
       "    <tr>\n",
       "      <th>4</th>\n",
       "      <td>Town of Greece</td>\n",
       "      <td>95100.000000</td>\n",
       "      <td>95500.000000</td>\n",
       "      <td>96333.333333</td>\n",
       "      <td>96933.333333</td>\n",
       "      <td>98266.666667</td>\n",
       "      <td>99300.000000</td>\n",
       "      <td>100000.000000</td>\n",
       "      <td>101200.000000</td>\n",
       "      <td>102766.666667</td>\n",
       "      <td>...</td>\n",
       "      <td>120000.000000</td>\n",
       "      <td>121133.333333</td>\n",
       "      <td>122433.333333</td>\n",
       "      <td>121633.333333</td>\n",
       "      <td>122800.000000</td>\n",
       "      <td>123966.666667</td>\n",
       "      <td>124466.666667</td>\n",
       "      <td>125933.333333</td>\n",
       "      <td>126633.333333</td>\n",
       "      <td>New York</td>\n",
       "    </tr>\n",
       "  </tbody>\n",
       "</table>\n",
       "<p>5 rows × 68 columns</p>\n",
       "</div>"
      ],
      "text/plain": [
       "       RegionName         2000q1         2000q2         2000q3         2000q4  \\\n",
       "0        New York            NaN            NaN            NaN            NaN   \n",
       "1       Rochester   53566.666667   53233.333333   53200.000000   53200.000000   \n",
       "2         Yonkers  222233.333333  230900.000000  245533.333333  254400.000000   \n",
       "3        Syracuse   56800.000000   57866.666667   57400.000000   57233.333333   \n",
       "4  Town of Greece   95100.000000   95500.000000   96333.333333   96933.333333   \n",
       "\n",
       "          2001q1         2001q2         2001q3         2001q4         2002q1  \\\n",
       "0            NaN            NaN            NaN            NaN            NaN   \n",
       "1   53066.666667   52533.333333   52666.666667   53200.000000   53366.666667   \n",
       "2  259266.666667  263700.000000  271300.000000  282066.666667  292833.333333   \n",
       "3   57100.000000   56966.666667   57433.333333   58000.000000   59033.333333   \n",
       "4   98266.666667   99300.000000  100000.000000  101200.000000  102766.666667   \n",
       "\n",
       "     ...            2014q2         2014q3         2014q4         2015q1  \\\n",
       "0    ...     515466.666667  522800.000000  528066.666667  532266.666667   \n",
       "1    ...      60100.000000   61266.666667   62800.000000   62900.000000   \n",
       "2    ...     382033.333333  385766.666667  385333.333333  385866.666667   \n",
       "3    ...      76533.333333   75733.333333   75133.333333   76966.666667   \n",
       "4    ...     120000.000000  121133.333333  122433.333333  121633.333333   \n",
       "\n",
       "          2015q2         2015q3         2015q4         2016q1         2016q2  \\\n",
       "0  540800.000000  557200.000000  572833.333333  582866.666667  591633.333333   \n",
       "1   63966.666667   64800.000000   65333.333333   66833.333333   67000.000000   \n",
       "2  388800.000000  401233.333333  404433.333333  407066.666667  409800.000000   \n",
       "3   78533.333333   79200.000000   80400.000000   80566.666667   78733.333333   \n",
       "4  122800.000000  123966.666667  124466.666667  125933.333333  126633.333333   \n",
       "\n",
       "      State  \n",
       "0  New York  \n",
       "1  New York  \n",
       "2  New York  \n",
       "3  New York  \n",
       "4  New York  \n",
       "\n",
       "[5 rows x 68 columns]"
      ]
     },
     "execution_count": 20,
     "metadata": {},
     "output_type": "execute_result"
    }
   ],
   "source": [
    "final=final.rename(columns={'names':'State'})\n",
    "final.head()"
   ]
  },
  {
   "cell_type": "code",
   "execution_count": 21,
   "metadata": {
    "collapsed": true
   },
   "outputs": [],
   "source": [
    "final1=final.set_index(['State','RegionName'])"
   ]
  },
  {
   "cell_type": "code",
   "execution_count": 22,
   "metadata": {
    "scrolled": false
   },
   "outputs": [
    {
     "data": {
      "text/html": [
       "<div>\n",
       "<table border=\"1\" class=\"dataframe\">\n",
       "  <thead>\n",
       "    <tr style=\"text-align: right;\">\n",
       "      <th></th>\n",
       "      <th></th>\n",
       "      <th>2000q1</th>\n",
       "      <th>2000q2</th>\n",
       "      <th>2000q3</th>\n",
       "      <th>2000q4</th>\n",
       "      <th>2001q1</th>\n",
       "      <th>2001q2</th>\n",
       "      <th>2001q3</th>\n",
       "      <th>2001q4</th>\n",
       "      <th>2002q1</th>\n",
       "      <th>2002q2</th>\n",
       "      <th>...</th>\n",
       "      <th>2014q1</th>\n",
       "      <th>2014q2</th>\n",
       "      <th>2014q3</th>\n",
       "      <th>2014q4</th>\n",
       "      <th>2015q1</th>\n",
       "      <th>2015q2</th>\n",
       "      <th>2015q3</th>\n",
       "      <th>2015q4</th>\n",
       "      <th>2016q1</th>\n",
       "      <th>2016q2</th>\n",
       "    </tr>\n",
       "    <tr>\n",
       "      <th>State</th>\n",
       "      <th>RegionName</th>\n",
       "      <th></th>\n",
       "      <th></th>\n",
       "      <th></th>\n",
       "      <th></th>\n",
       "      <th></th>\n",
       "      <th></th>\n",
       "      <th></th>\n",
       "      <th></th>\n",
       "      <th></th>\n",
       "      <th></th>\n",
       "      <th></th>\n",
       "      <th></th>\n",
       "      <th></th>\n",
       "      <th></th>\n",
       "      <th></th>\n",
       "      <th></th>\n",
       "      <th></th>\n",
       "      <th></th>\n",
       "      <th></th>\n",
       "      <th></th>\n",
       "      <th></th>\n",
       "    </tr>\n",
       "  </thead>\n",
       "  <tbody>\n",
       "    <tr>\n",
       "      <th rowspan=\"5\" valign=\"top\">New York</th>\n",
       "      <th>New York</th>\n",
       "      <td>NaN</td>\n",
       "      <td>NaN</td>\n",
       "      <td>NaN</td>\n",
       "      <td>NaN</td>\n",
       "      <td>NaN</td>\n",
       "      <td>NaN</td>\n",
       "      <td>NaN</td>\n",
       "      <td>NaN</td>\n",
       "      <td>NaN</td>\n",
       "      <td>NaN</td>\n",
       "      <td>...</td>\n",
       "      <td>503133.333333</td>\n",
       "      <td>515466.666667</td>\n",
       "      <td>522800.000000</td>\n",
       "      <td>528066.666667</td>\n",
       "      <td>532266.666667</td>\n",
       "      <td>540800.000000</td>\n",
       "      <td>557200.000000</td>\n",
       "      <td>572833.333333</td>\n",
       "      <td>582866.666667</td>\n",
       "      <td>591633.333333</td>\n",
       "    </tr>\n",
       "    <tr>\n",
       "      <th>Rochester</th>\n",
       "      <td>53566.666667</td>\n",
       "      <td>53233.333333</td>\n",
       "      <td>53200.000000</td>\n",
       "      <td>53200.000000</td>\n",
       "      <td>53066.666667</td>\n",
       "      <td>52533.333333</td>\n",
       "      <td>52666.666667</td>\n",
       "      <td>53200.000000</td>\n",
       "      <td>53366.666667</td>\n",
       "      <td>53566.666667</td>\n",
       "      <td>...</td>\n",
       "      <td>59633.333333</td>\n",
       "      <td>60100.000000</td>\n",
       "      <td>61266.666667</td>\n",
       "      <td>62800.000000</td>\n",
       "      <td>62900.000000</td>\n",
       "      <td>63966.666667</td>\n",
       "      <td>64800.000000</td>\n",
       "      <td>65333.333333</td>\n",
       "      <td>66833.333333</td>\n",
       "      <td>67000.000000</td>\n",
       "    </tr>\n",
       "    <tr>\n",
       "      <th>Yonkers</th>\n",
       "      <td>222233.333333</td>\n",
       "      <td>230900.000000</td>\n",
       "      <td>245533.333333</td>\n",
       "      <td>254400.000000</td>\n",
       "      <td>259266.666667</td>\n",
       "      <td>263700.000000</td>\n",
       "      <td>271300.000000</td>\n",
       "      <td>282066.666667</td>\n",
       "      <td>292833.333333</td>\n",
       "      <td>303533.333333</td>\n",
       "      <td>...</td>\n",
       "      <td>375333.333333</td>\n",
       "      <td>382033.333333</td>\n",
       "      <td>385766.666667</td>\n",
       "      <td>385333.333333</td>\n",
       "      <td>385866.666667</td>\n",
       "      <td>388800.000000</td>\n",
       "      <td>401233.333333</td>\n",
       "      <td>404433.333333</td>\n",
       "      <td>407066.666667</td>\n",
       "      <td>409800.000000</td>\n",
       "    </tr>\n",
       "    <tr>\n",
       "      <th>Syracuse</th>\n",
       "      <td>56800.000000</td>\n",
       "      <td>57866.666667</td>\n",
       "      <td>57400.000000</td>\n",
       "      <td>57233.333333</td>\n",
       "      <td>57100.000000</td>\n",
       "      <td>56966.666667</td>\n",
       "      <td>57433.333333</td>\n",
       "      <td>58000.000000</td>\n",
       "      <td>59033.333333</td>\n",
       "      <td>60200.000000</td>\n",
       "      <td>...</td>\n",
       "      <td>76433.333333</td>\n",
       "      <td>76533.333333</td>\n",
       "      <td>75733.333333</td>\n",
       "      <td>75133.333333</td>\n",
       "      <td>76966.666667</td>\n",
       "      <td>78533.333333</td>\n",
       "      <td>79200.000000</td>\n",
       "      <td>80400.000000</td>\n",
       "      <td>80566.666667</td>\n",
       "      <td>78733.333333</td>\n",
       "    </tr>\n",
       "    <tr>\n",
       "      <th>Town of Greece</th>\n",
       "      <td>95100.000000</td>\n",
       "      <td>95500.000000</td>\n",
       "      <td>96333.333333</td>\n",
       "      <td>96933.333333</td>\n",
       "      <td>98266.666667</td>\n",
       "      <td>99300.000000</td>\n",
       "      <td>100000.000000</td>\n",
       "      <td>101200.000000</td>\n",
       "      <td>102766.666667</td>\n",
       "      <td>103400.000000</td>\n",
       "      <td>...</td>\n",
       "      <td>120266.666667</td>\n",
       "      <td>120000.000000</td>\n",
       "      <td>121133.333333</td>\n",
       "      <td>122433.333333</td>\n",
       "      <td>121633.333333</td>\n",
       "      <td>122800.000000</td>\n",
       "      <td>123966.666667</td>\n",
       "      <td>124466.666667</td>\n",
       "      <td>125933.333333</td>\n",
       "      <td>126633.333333</td>\n",
       "    </tr>\n",
       "  </tbody>\n",
       "</table>\n",
       "<p>5 rows × 66 columns</p>\n",
       "</div>"
      ],
      "text/plain": [
       "                                2000q1         2000q2         2000q3  \\\n",
       "State    RegionName                                                    \n",
       "New York New York                  NaN            NaN            NaN   \n",
       "         Rochester        53566.666667   53233.333333   53200.000000   \n",
       "         Yonkers         222233.333333  230900.000000  245533.333333   \n",
       "         Syracuse         56800.000000   57866.666667   57400.000000   \n",
       "         Town of Greece   95100.000000   95500.000000   96333.333333   \n",
       "\n",
       "                                2000q4         2001q1         2001q2  \\\n",
       "State    RegionName                                                    \n",
       "New York New York                  NaN            NaN            NaN   \n",
       "         Rochester        53200.000000   53066.666667   52533.333333   \n",
       "         Yonkers         254400.000000  259266.666667  263700.000000   \n",
       "         Syracuse         57233.333333   57100.000000   56966.666667   \n",
       "         Town of Greece   96933.333333   98266.666667   99300.000000   \n",
       "\n",
       "                                2001q3         2001q4         2002q1  \\\n",
       "State    RegionName                                                    \n",
       "New York New York                  NaN            NaN            NaN   \n",
       "         Rochester        52666.666667   53200.000000   53366.666667   \n",
       "         Yonkers         271300.000000  282066.666667  292833.333333   \n",
       "         Syracuse         57433.333333   58000.000000   59033.333333   \n",
       "         Town of Greece  100000.000000  101200.000000  102766.666667   \n",
       "\n",
       "                                2002q2      ...               2014q1  \\\n",
       "State    RegionName                         ...                        \n",
       "New York New York                  NaN      ...        503133.333333   \n",
       "         Rochester        53566.666667      ...         59633.333333   \n",
       "         Yonkers         303533.333333      ...        375333.333333   \n",
       "         Syracuse         60200.000000      ...         76433.333333   \n",
       "         Town of Greece  103400.000000      ...        120266.666667   \n",
       "\n",
       "                                2014q2         2014q3         2014q4  \\\n",
       "State    RegionName                                                    \n",
       "New York New York        515466.666667  522800.000000  528066.666667   \n",
       "         Rochester        60100.000000   61266.666667   62800.000000   \n",
       "         Yonkers         382033.333333  385766.666667  385333.333333   \n",
       "         Syracuse         76533.333333   75733.333333   75133.333333   \n",
       "         Town of Greece  120000.000000  121133.333333  122433.333333   \n",
       "\n",
       "                                2015q1         2015q2         2015q3  \\\n",
       "State    RegionName                                                    \n",
       "New York New York        532266.666667  540800.000000  557200.000000   \n",
       "         Rochester        62900.000000   63966.666667   64800.000000   \n",
       "         Yonkers         385866.666667  388800.000000  401233.333333   \n",
       "         Syracuse         76966.666667   78533.333333   79200.000000   \n",
       "         Town of Greece  121633.333333  122800.000000  123966.666667   \n",
       "\n",
       "                                2015q4         2016q1         2016q2  \n",
       "State    RegionName                                                   \n",
       "New York New York        572833.333333  582866.666667  591633.333333  \n",
       "         Rochester        65333.333333   66833.333333   67000.000000  \n",
       "         Yonkers         404433.333333  407066.666667  409800.000000  \n",
       "         Syracuse         80400.000000   80566.666667   78733.333333  \n",
       "         Town of Greece  124466.666667  125933.333333  126633.333333  \n",
       "\n",
       "[5 rows x 66 columns]"
      ]
     },
     "execution_count": 22,
     "metadata": {},
     "output_type": "execute_result"
    }
   ],
   "source": [
    "final1.head()"
   ]
  },
  {
   "cell_type": "code",
   "execution_count": 23,
   "metadata": {
    "collapsed": true
   },
   "outputs": [],
   "source": [
    "final2= final.transpose()"
   ]
  },
  {
   "cell_type": "code",
   "execution_count": 24,
   "metadata": {
    "collapsed": true
   },
   "outputs": [],
   "source": [
    "header=list(final2.iloc[0])"
   ]
  },
  {
   "cell_type": "code",
   "execution_count": 25,
   "metadata": {
    "collapsed": true
   },
   "outputs": [],
   "source": [
    "final2=final2[1:]"
   ]
  },
  {
   "cell_type": "code",
   "execution_count": 26,
   "metadata": {
    "collapsed": true
   },
   "outputs": [],
   "source": [
    "final2.columns=header"
   ]
  },
  {
   "cell_type": "code",
   "execution_count": 27,
   "metadata": {
    "collapsed": true
   },
   "outputs": [],
   "source": [
    "Us_reces= final2[34:40]"
   ]
  },
  {
   "cell_type": "code",
   "execution_count": 28,
   "metadata": {},
   "outputs": [
    {
     "data": {
      "text/html": [
       "<div>\n",
       "<table border=\"1\" class=\"dataframe\">\n",
       "  <thead>\n",
       "    <tr style=\"text-align: right;\">\n",
       "      <th></th>\n",
       "      <th>New York</th>\n",
       "      <th>Rochester</th>\n",
       "      <th>Yonkers</th>\n",
       "      <th>Syracuse</th>\n",
       "      <th>Town of Greece</th>\n",
       "      <th>Albany</th>\n",
       "      <th>Town of Poughkeepsie</th>\n",
       "      <th>New Rochelle</th>\n",
       "      <th>Town of Colonie</th>\n",
       "      <th>Mount Vernon</th>\n",
       "      <th>...</th>\n",
       "      <th>Orwell</th>\n",
       "      <th>Town of Wallingford</th>\n",
       "      <th>Stamford</th>\n",
       "      <th>Mendon</th>\n",
       "      <th>Morrisville</th>\n",
       "      <th>Town of Marshfield</th>\n",
       "      <th>Graniteville-East Barre</th>\n",
       "      <th>Town of Manchester</th>\n",
       "      <th>East Montpelier</th>\n",
       "      <th>Town of Dixfield</th>\n",
       "    </tr>\n",
       "  </thead>\n",
       "  <tbody>\n",
       "    <tr>\n",
       "      <th>2008q3</th>\n",
       "      <td>499767</td>\n",
       "      <td>58933.3</td>\n",
       "      <td>456367</td>\n",
       "      <td>76900</td>\n",
       "      <td>115467</td>\n",
       "      <td>170900</td>\n",
       "      <td>256500</td>\n",
       "      <td>653767</td>\n",
       "      <td>204100</td>\n",
       "      <td>482867</td>\n",
       "      <td>...</td>\n",
       "      <td>NaN</td>\n",
       "      <td>NaN</td>\n",
       "      <td>NaN</td>\n",
       "      <td>220200</td>\n",
       "      <td>NaN</td>\n",
       "      <td>171400</td>\n",
       "      <td>154300</td>\n",
       "      <td>NaN</td>\n",
       "      <td>268533</td>\n",
       "      <td>NaN</td>\n",
       "    </tr>\n",
       "    <tr>\n",
       "      <th>2008q4</th>\n",
       "      <td>487933</td>\n",
       "      <td>59100</td>\n",
       "      <td>445500</td>\n",
       "      <td>76900</td>\n",
       "      <td>114967</td>\n",
       "      <td>170967</td>\n",
       "      <td>251267</td>\n",
       "      <td>649900</td>\n",
       "      <td>205033</td>\n",
       "      <td>470733</td>\n",
       "      <td>...</td>\n",
       "      <td>NaN</td>\n",
       "      <td>NaN</td>\n",
       "      <td>NaN</td>\n",
       "      <td>213267</td>\n",
       "      <td>NaN</td>\n",
       "      <td>173233</td>\n",
       "      <td>151133</td>\n",
       "      <td>NaN</td>\n",
       "      <td>250300</td>\n",
       "      <td>NaN</td>\n",
       "    </tr>\n",
       "    <tr>\n",
       "      <th>2009q1</th>\n",
       "      <td>477733</td>\n",
       "      <td>58500</td>\n",
       "      <td>434900</td>\n",
       "      <td>75400</td>\n",
       "      <td>113300</td>\n",
       "      <td>171967</td>\n",
       "      <td>248033</td>\n",
       "      <td>636233</td>\n",
       "      <td>206433</td>\n",
       "      <td>443600</td>\n",
       "      <td>...</td>\n",
       "      <td>NaN</td>\n",
       "      <td>NaN</td>\n",
       "      <td>NaN</td>\n",
       "      <td>219467</td>\n",
       "      <td>NaN</td>\n",
       "      <td>180800</td>\n",
       "      <td>146467</td>\n",
       "      <td>NaN</td>\n",
       "      <td>260700</td>\n",
       "      <td>NaN</td>\n",
       "    </tr>\n",
       "    <tr>\n",
       "      <th>2009q2</th>\n",
       "      <td>465833</td>\n",
       "      <td>58200</td>\n",
       "      <td>429300</td>\n",
       "      <td>75033.3</td>\n",
       "      <td>113100</td>\n",
       "      <td>169900</td>\n",
       "      <td>243033</td>\n",
       "      <td>620933</td>\n",
       "      <td>204167</td>\n",
       "      <td>417600</td>\n",
       "      <td>...</td>\n",
       "      <td>209300</td>\n",
       "      <td>194600</td>\n",
       "      <td>NaN</td>\n",
       "      <td>206500</td>\n",
       "      <td>NaN</td>\n",
       "      <td>187067</td>\n",
       "      <td>139267</td>\n",
       "      <td>346533</td>\n",
       "      <td>269733</td>\n",
       "      <td>106033</td>\n",
       "    </tr>\n",
       "    <tr>\n",
       "      <th>2009q3</th>\n",
       "      <td>455933</td>\n",
       "      <td>58700</td>\n",
       "      <td>421533</td>\n",
       "      <td>75533.3</td>\n",
       "      <td>114033</td>\n",
       "      <td>169733</td>\n",
       "      <td>234800</td>\n",
       "      <td>606833</td>\n",
       "      <td>203267</td>\n",
       "      <td>405333</td>\n",
       "      <td>...</td>\n",
       "      <td>218733</td>\n",
       "      <td>191467</td>\n",
       "      <td>NaN</td>\n",
       "      <td>197400</td>\n",
       "      <td>NaN</td>\n",
       "      <td>191067</td>\n",
       "      <td>135633</td>\n",
       "      <td>347233</td>\n",
       "      <td>270333</td>\n",
       "      <td>96833.3</td>\n",
       "    </tr>\n",
       "    <tr>\n",
       "      <th>2009q4</th>\n",
       "      <td>458367</td>\n",
       "      <td>59800</td>\n",
       "      <td>418567</td>\n",
       "      <td>76433.3</td>\n",
       "      <td>115167</td>\n",
       "      <td>171500</td>\n",
       "      <td>231933</td>\n",
       "      <td>603733</td>\n",
       "      <td>205167</td>\n",
       "      <td>402167</td>\n",
       "      <td>...</td>\n",
       "      <td>219367</td>\n",
       "      <td>187400</td>\n",
       "      <td>NaN</td>\n",
       "      <td>199433</td>\n",
       "      <td>126600</td>\n",
       "      <td>196333</td>\n",
       "      <td>137367</td>\n",
       "      <td>335567</td>\n",
       "      <td>272500</td>\n",
       "      <td>92166.7</td>\n",
       "    </tr>\n",
       "  </tbody>\n",
       "</table>\n",
       "<p>6 rows × 10730 columns</p>\n",
       "</div>"
      ],
      "text/plain": [
       "       New York Rochester Yonkers Syracuse Town of Greece  Albany  \\\n",
       "2008q3   499767   58933.3  456367    76900         115467  170900   \n",
       "2008q4   487933     59100  445500    76900         114967  170967   \n",
       "2009q1   477733     58500  434900    75400         113300  171967   \n",
       "2009q2   465833     58200  429300  75033.3         113100  169900   \n",
       "2009q3   455933     58700  421533  75533.3         114033  169733   \n",
       "2009q4   458367     59800  418567  76433.3         115167  171500   \n",
       "\n",
       "       Town of Poughkeepsie New Rochelle Town of Colonie Mount Vernon  \\\n",
       "2008q3               256500       653767          204100       482867   \n",
       "2008q4               251267       649900          205033       470733   \n",
       "2009q1               248033       636233          206433       443600   \n",
       "2009q2               243033       620933          204167       417600   \n",
       "2009q3               234800       606833          203267       405333   \n",
       "2009q4               231933       603733          205167       402167   \n",
       "\n",
       "             ...         Orwell Town of Wallingford Stamford  Mendon  \\\n",
       "2008q3       ...            NaN                 NaN      NaN  220200   \n",
       "2008q4       ...            NaN                 NaN      NaN  213267   \n",
       "2009q1       ...            NaN                 NaN      NaN  219467   \n",
       "2009q2       ...         209300              194600      NaN  206500   \n",
       "2009q3       ...         218733              191467      NaN  197400   \n",
       "2009q4       ...         219367              187400      NaN  199433   \n",
       "\n",
       "       Morrisville Town of Marshfield Graniteville-East Barre  \\\n",
       "2008q3         NaN             171400                  154300   \n",
       "2008q4         NaN             173233                  151133   \n",
       "2009q1         NaN             180800                  146467   \n",
       "2009q2         NaN             187067                  139267   \n",
       "2009q3         NaN             191067                  135633   \n",
       "2009q4      126600             196333                  137367   \n",
       "\n",
       "       Town of Manchester East Montpelier Town of Dixfield  \n",
       "2008q3                NaN          268533              NaN  \n",
       "2008q4                NaN          250300              NaN  \n",
       "2009q1                NaN          260700              NaN  \n",
       "2009q2             346533          269733           106033  \n",
       "2009q3             347233          270333          96833.3  \n",
       "2009q4             335567          272500          92166.7  \n",
       "\n",
       "[6 rows x 10730 columns]"
      ]
     },
     "execution_count": 28,
     "metadata": {},
     "output_type": "execute_result"
    }
   ],
   "source": [
    "Us_reces"
   ]
  },
  {
   "cell_type": "code",
   "execution_count": 29,
   "metadata": {
    "collapsed": true
   },
   "outputs": [],
   "source": [
    "import matplotlib.pyplot as plt\n",
    "import matplotlib.colors as mcolors"
   ]
  },
  {
   "cell_type": "code",
   "execution_count": 30,
   "metadata": {},
   "outputs": [
    {
     "data": {
      "text/plain": [
       "<matplotlib.figure.Figure at 0x7f84df5d2c88>"
      ]
     },
     "execution_count": 30,
     "metadata": {},
     "output_type": "execute_result"
    }
   ],
   "source": [
    "fig, ax = plt.subplots()\n",
    "bar_width = 0.25\n",
    "opacity = 0.8\n",
    "x=np.arange(6)\n",
    "objects=list(Us_reces.index)\n",
    "y1=Us_reces['New York']\n",
    "y2=Us_reces['Yonkers']\n",
    "y3=Us_reces['New Rochelle']\n",
    "f1=plt.bar(x,y1,bar_width,alpha=opacity,color='cyan',label='New York')\n",
    "f2=plt.bar(x + bar_width,y2,bar_width,alpha=opacity,color='blue',label='Yonkers')\n",
    "f3=plt.bar(x + bar_width*2,y3,bar_width,alpha=opacity,color='red',label='New Rochelle')\n",
    "plt.xlabel('Quaters')\n",
    "plt.ylabel('Median Sales Price $')\n",
    "plt.title('House prices in Great Recession (New York)')\n",
    "plt.xticks(x,objects)\n",
    "plt.tight_layout()\n",
    "plt.legend()\n",
    "plt.figure(figsize=(50,35))"
   ]
  },
  {
   "cell_type": "code",
   "execution_count": 31,
   "metadata": {},
   "outputs": [
    {
     "data": {
      "image/png": "[encoded data removed]",
      "text/plain": [
       "<matplotlib.figure.Figure at 0x7f84df85a400>"
      ]
     },
     "metadata": {},
     "output_type": "display_data"
    },
    {
     "data": {
      "text/plain": [
       "<matplotlib.figure.Figure at 0x7f84df5d2c88>"
      ]
     },
     "metadata": {},
     "output_type": "display_data"
    }
   ],
   "source": [
    "plt.show()"
   ]
  },
  {
   "cell_type": "code",
   "execution_count": 32,
   "metadata": {},
   "outputs": [
    {
     "data": {
      "text/plain": [
       "<matplotlib.figure.Figure at 0x7f84dc47cac8>"
      ]
     },
     "execution_count": 32,
     "metadata": {},
     "output_type": "execute_result"
    }
   ],
   "source": [
    "fig, ax = plt.subplots()\n",
    "bar_width = 0.25\n",
    "opacity = 0.8\n",
    "x=np.arange(6)\n",
    "objects=list(Us_reces.index)\n",
    "y1=Us_reces['Los Angeles']\n",
    "y2=Us_reces['Berkeley']\n",
    "y2=y2.mean(axis=1)\n",
    "y3=Us_reces['Irvine']\n",
    "f1=plt.bar(x,y1,bar_width,alpha=opacity,color='tab:blue',label='Los Angeles')\n",
    "f2=plt.bar(x + bar_width,y2,bar_width,alpha=opacity,color='tab:orange',label='Berkeley')\n",
    "f3=plt.bar(x + bar_width*2,y3,bar_width,alpha=opacity,color='tab:red',label='Irvine')\n",
    "plt.xlabel('Quaters')\n",
    "plt.ylabel('Median Sales Price $')\n",
    "plt.title('House prices in Great Recession (California)')\n",
    "plt.xticks(x,objects)\n",
    "plt.legend()\n",
    "plt.figure(figsize=(50,35))"
   ]
  },
  {
   "cell_type": "code",
   "execution_count": 33,
   "metadata": {
    "scrolled": true
   },
   "outputs": [
    {
     "data": {
      "image/png": "[encoded data removed]",
      "text/plain": [
       "<matplotlib.figure.Figure at 0x7f84dec72e10>"
      ]
     },
     "metadata": {},
     "output_type": "display_data"
    },
    {
     "data": {
      "text/plain": [
       "<matplotlib.figure.Figure at 0x7f84dc47cac8>"
      ]
     },
     "metadata": {},
     "output_type": "display_data"
    }
   ],
   "source": [
    "plt.show()"
   ]
  },
  {
   "cell_type": "code",
   "execution_count": 34,
   "metadata": {
    "collapsed": true
   },
   "outputs": [],
   "source": [
    "fig, ax = plt.subplots()\n",
    "bar_width = 0.25\n",
    "opacity = 0.8\n",
    "x=np.arange(6)\n",
    "objects=list(Us_reces.index)\n",
    "y1=Us_reces['Boston']\n",
    "y2=Us_reces['Fitchburg']\n",
    "y3=Us_reces['Cambridge']\n",
    "y1=y1.mean(axis=1)\n",
    "y2=y2.mean(axis=1)\n",
    "y3=y3.mean(axis=1)"
   ]
  },
  {
   "cell_type": "code",
   "execution_count": 35,
   "metadata": {},
   "outputs": [
    {
     "data": {
      "text/plain": [
       "<matplotlib.figure.Figure at 0x7f84dc448c50>"
      ]
     },
     "execution_count": 35,
     "metadata": {},
     "output_type": "execute_result"
    }
   ],
   "source": [
    "f1=plt.bar(x,y1,bar_width,alpha=opacity,color='brown',label='Boston')\n",
    "f2=plt.bar(x + bar_width,y2,bar_width,alpha=opacity,color='peachpuff',label='Fitchburg')\n",
    "f3=plt.bar(x + bar_width*2,y3,bar_width,alpha=opacity,color='crimson',label='Cambridge')\n",
    "plt.xlabel('Quaters')\n",
    "plt.ylabel('Median Sales Price $')\n",
    "plt.title('House prices in Great Recession (Massachusetts)')\n",
    "plt.xticks(x,objects)\n",
    "plt.legend()\n",
    "plt.tight_layout()\n",
    "plt.figure(figsize=(50,35))"
   ]
  },
  {
   "cell_type": "code",
   "execution_count": 36,
   "metadata": {},
   "outputs": [
    {
     "data": {
      "image/png": "[encoded data removed]",
      "text/plain": [
       "<matplotlib.figure.Figure at 0x7f84dc439320>"
      ]
     },
     "metadata": {},
     "output_type": "display_data"
    },
    {
     "data": {
      "text/plain": [
       "<matplotlib.figure.Figure at 0x7f84dc448c50>"
      ]
     },
     "metadata": {},
     "output_type": "display_data"
    }
   ],
   "source": [
    "plt.show()"
   ]
  },
  {
   "cell_type": "code",
   "execution_count": 37,
   "metadata": {},
   "outputs": [
    {
     "data": {
      "text/plain": [
       "2008q3    146316.666667\n",
       "2008q4    147600.000000\n",
       "2009q1    149750.000000\n",
       "2009q2    150900.000000\n",
       "2009q3    150916.666667\n",
       "2009q4    149850.000000\n",
       "dtype: float64"
      ]
     },
     "execution_count": 37,
     "metadata": {},
     "output_type": "execute_result"
    }
   ],
   "source": [
    "fig, ax = plt.subplots()\n",
    "bar_width = 0.25\n",
    "opacity = 0.8\n",
    "x=np.arange(6)\n",
    "objects=list(Us_reces.index)\n",
    "y1=Us_reces['Seattle']\n",
    "y2=Us_reces['Bellingham']\n",
    "y3=Us_reces['Cheney']\n",
    "y3=y3.mean(axis=1)\n",
    "y3"
   ]
  },
  {
   "cell_type": "code",
   "execution_count": 38,
   "metadata": {},
   "outputs": [
    {
     "data": {
      "text/plain": [
       "<matplotlib.figure.Figure at 0x7f84dc2e3eb8>"
      ]
     },
     "execution_count": 38,
     "metadata": {},
     "output_type": "execute_result"
    }
   ],
   "source": [
    "f1=plt.bar(x,y1,bar_width,alpha=opacity,color='lime',label='Seattle')\n",
    "f2=plt.bar(x + bar_width,y2,bar_width,alpha=opacity,color='navy',label='Bellingham')\n",
    "f3=plt.bar(x + bar_width*2,y3,bar_width,alpha=opacity,color='yellow',label='Cheney')\n",
    "plt.xlabel('Quaters')\n",
    "plt.ylabel('Median Sales Price $')\n",
    "plt.title('House prices in Great Recession (Washington)')\n",
    "plt.xticks(x,objects)\n",
    "plt.legend()\n",
    "#plt.tight_layout()\n",
    "plt.figure(figsize=(50,35))"
   ]
  },
  {
   "cell_type": "code",
   "execution_count": 39,
   "metadata": {
    "scrolled": true
   },
   "outputs": [
    {
     "data": {
      "image/png": "[encoded data removed]",
      "text/plain": [
       "<matplotlib.figure.Figure at 0x7f84dc385630>"
      ]
     },
     "metadata": {},
     "output_type": "display_data"
    },
    {
     "data": {
      "text/plain": [
       "<matplotlib.figure.Figure at 0x7f84dc2e3eb8>"
      ]
     },
     "metadata": {},
     "output_type": "display_data"
    }
   ],
   "source": [
    "plt.show()"
   ]
  },
  {
   "cell_type": "code",
   "execution_count": 40,
   "metadata": {
    "collapsed": true
   },
   "outputs": [],
   "source": [
    "Res1= final1[['2008q3','2008q4','2009q1','2009q2','2009q3','2009q4']]"
   ]
  },
  {
   "cell_type": "code",
   "execution_count": 42,
   "metadata": {
    "collapsed": true
   },
   "outputs": [],
   "source": [
    "res_illinois=Res1.loc['Illinois']\n",
    "res_michigan=Res1.loc['Michigan']\n",
    "res_texas=Res1.loc['Texas']\n",
    "res_florida=Res1.loc['Florida']"
   ]
  },
  {
   "cell_type": "code",
   "execution_count": 53,
   "metadata": {
    "collapsed": true
   },
   "outputs": [],
   "source": [
    "viz1=res_illinois.mean()\n",
    "viz2=res_michigan.mean()\n",
    "viz3=res_texas.mean()\n",
    "viz4=res_florida.mean()"
   ]
  },
  {
   "cell_type": "code",
   "execution_count": 44,
   "metadata": {
    "collapsed": true
   },
   "outputs": [],
   "source": [
    "x1=np.arange(6)"
   ]
  },
  {
   "cell_type": "code",
   "execution_count": 68,
   "metadata": {},
   "outputs": [
    {
     "data": {
      "text/plain": [
       "[<matplotlib.lines.Line2D at 0x7f84bc68a828>]"
      ]
     },
     "execution_count": 68,
     "metadata": {},
     "output_type": "execute_result"
    }
   ],
   "source": [
    "plt.plot(x1,viz1,'c^',linestyle='-.', linewidth=2, markersize=12)"
   ]
  },
  {
   "cell_type": "code",
   "execution_count": 69,
   "metadata": {},
   "outputs": [
    {
     "data": {
      "image/png": "[encoded data removed]",
      "text/plain": [
       "<matplotlib.figure.Figure at 0x7f84bc7155f8>"
      ]
     },
     "metadata": {},
     "output_type": "display_data"
    }
   ],
   "source": [
    "plt.show()"
   ]
  },
  {
   "cell_type": "code",
   "execution_count": 70,
   "metadata": {
    "scrolled": true
   },
   "outputs": [
    {
     "data": {
      "text/plain": [
       "[<matplotlib.lines.Line2D at 0x7f84bc613c18>]"
      ]
     },
     "execution_count": 70,
     "metadata": {},
     "output_type": "execute_result"
    }
   ],
   "source": [
    "plt.plot(x1,viz2,'bo',linestyle='--', linewidth=2, markersize=12)"
   ]
  },
  {
   "cell_type": "code",
   "execution_count": 71,
   "metadata": {},
   "outputs": [
    {
     "data": {
      "image/png": "[encoded data removed]",
      "text/plain": [
       "<matplotlib.figure.Figure at 0x7f84bc6ce240>"
      ]
     },
     "metadata": {},
     "output_type": "display_data"
    }
   ],
   "source": [
    "plt.show()"
   ]
  },
  {
   "cell_type": "code",
   "execution_count": 72,
   "metadata": {},
   "outputs": [
    {
     "data": {
      "text/plain": [
       "[<matplotlib.lines.Line2D at 0x7f84bc5b15c0>]"
      ]
     },
     "execution_count": 72,
     "metadata": {},
     "output_type": "execute_result"
    }
   ],
   "source": [
    "plt.plot(x1,viz3,'r^',linestyle='-', linewidth=2, markersize=12)"
   ]
  },
  {
   "cell_type": "code",
   "execution_count": 73,
   "metadata": {},
   "outputs": [
    {
     "data": {
      "image/png": "[encoded data removed]",
      "text/plain": [
       "<matplotlib.figure.Figure at 0x7f84bc5c49e8>"
      ]
     },
     "metadata": {},
     "output_type": "display_data"
    }
   ],
   "source": [
    "plt.show()"
   ]
  },
  {
   "cell_type": "code",
   "execution_count": 74,
   "metadata": {},
   "outputs": [
    {
     "data": {
      "text/plain": [
       "[<matplotlib.lines.Line2D at 0x7f84bc4c8390>]"
      ]
     },
     "execution_count": 74,
     "metadata": {},
     "output_type": "execute_result"
    }
   ],
   "source": [
    "plt.plot(x1,viz4,'go',linestyle=':', linewidth=2, markersize=12)"
   ]
  },
  {
   "cell_type": "code",
   "execution_count": 75,
   "metadata": {},
   "outputs": [
    {
     "data": {
      "image/png": "[encoded data removed]",
      "text/plain": [
       "<matplotlib.figure.Figure at 0x7f84bc54f4e0>"
      ]
     },
     "metadata": {},
     "output_type": "display_data"
    }
   ],
   "source": [
    "plt.show()"
   ]
  }
 ],
 "metadata": {
  "coursera": {
   "course_slug": "python-data-analysis",
   "graded_item_id": "Il9Fx",
   "launcher_item_id": "TeDW0",
   "part_id": "WGlun"
  },
  "kernelspec": {
   "display_name": "Python 3",
   "language": "python",
   "name": "python3"
  },
  "language_info": {
   "codemirror_mode": {
    "name": "ipython",
    "version": 3
   },
   "file_extension": ".py",
   "mimetype": "text/x-python",
   "name": "python",
   "nbconvert_exporter": "python",
   "pygments_lexer": "ipython3",
   "version": "3.6.2"
  },
  "umich": {
   "id": "Assignment 4",
   "version": "1.1"
  }
 },
 "nbformat": 4,
 "nbformat_minor": 1
}
